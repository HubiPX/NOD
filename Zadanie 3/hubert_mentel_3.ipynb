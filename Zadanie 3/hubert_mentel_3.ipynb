{
 "cells": [
  {
   "cell_type": "code",
   "execution_count": 1,
   "id": "51e42cf3",
   "metadata": {},
   "outputs": [],
   "source": [
    "#ladowanie biblioteki Pandas\n",
    "import pandas as pd"
   ]
  },
  {
   "cell_type": "code",
   "execution_count": 3,
   "id": "d9ad46de",
   "metadata": {},
   "outputs": [
    {
     "name": "stdout",
     "output_type": "stream",
     "text": [
      "      SbjNum NetDuration InterviewTimeVStart InterviewTimeVEnd  \\\n",
      "0  133476254     0:10:14     7/17/2020 13:53   7/17/2020 14:26   \n",
      "1  133281846     0:22:16     7/10/2020 12:53   7/10/2020 14:47   \n",
      "2  133280780     0:19:23     7/10/2020 12:35   7/10/2020 12:54   \n",
      "3  133281834     0:10:11     7/10/2020 10:21   7/10/2020 10:32   \n",
      "4  133491249     0:09:59      7/18/2020 8:27    7/18/2020 8:39   \n",
      "\n",
      "             Date  Srvyr  Country  LANG  R1  R1_5  ... G11_Other G11_99  \\\n",
      "0  7/17/2020 8:53   3232        2     1   9  15.0  ...       NaN    NaN   \n",
      "1  7/10/2020 7:53   3206        2     4  12  22.0  ...       NaN    NaN   \n",
      "2  7/10/2020 7:35   3202        2     3  10  13.0  ...       NaN    NaN   \n",
      "3  7/10/2020 5:21   3212        2     1  12   9.0  ...       NaN    NaN   \n",
      "4  7/18/2020 3:27   3225        2     3  11  28.0  ...       NaN    NaN   \n",
      "\n",
      "   FinalOutcome  NumOfVisits  weight_combined kenya_weight  nigeria_weight  \\\n",
      "0             1            1         0.829860          NaN        0.829860   \n",
      "1             1            1         1.416946          NaN        1.416946   \n",
      "2             1            1         0.883601          NaN        0.883601   \n",
      "3             1            1         1.416946          NaN        1.416946   \n",
      "4             1            1         0.829860          NaN        0.829860   \n",
      "\n",
      "  southafrica_weight  agegroup gk_weight  \n",
      "0                NaN         1  1.555754  \n",
      "1                NaN         2  1.949579  \n",
      "2                NaN         2  2.151458  \n",
      "3                NaN         2  2.325065  \n",
      "4                NaN         1  1.640484  \n",
      "\n",
      "[5 rows x 247 columns]\n",
      "<class 'pandas.core.frame.DataFrame'>\n",
      "RangeIndex: 3058 entries, 0 to 3057\n",
      "Columns: 247 entries, SbjNum to gk_weight\n",
      "dtypes: float64(208), int64(18), object(21)\n",
      "memory usage: 5.8+ MB\n",
      "None\n",
      "             SbjNum        Srvyr      Country         LANG           R1  \\\n",
      "count  3.058000e+03  3058.000000  3058.000000  3058.000000  3058.000000   \n",
      "mean   1.333905e+08  3084.743623     2.012426     2.180510    22.521583   \n",
      "std    1.256690e+05    97.219107     0.817203     2.364438    20.294923   \n",
      "min    1.331715e+08  3001.000000     1.000000     1.000000     1.000000   \n",
      "25%    1.332825e+08  3010.000000     1.000000     1.000000     7.000000   \n",
      "50%    1.333755e+08  3026.000000     2.000000     1.000000    11.000000   \n",
      "75%    1.334985e+08  3212.000000     3.000000     1.000000    49.000000   \n",
      "max    1.336450e+08  3264.000000     3.000000    11.000000    54.000000   \n",
      "\n",
      "              R1_5           R4           R5           R6           R7  ...  \\\n",
      "count  1016.000000  3058.000000  3058.000000  3058.000000  3058.000000  ...   \n",
      "mean     27.378937     1.503270    34.038914     1.771419    24.448986  ...   \n",
      "std      10.088041     0.500071    11.386285     3.130841    26.377909  ...   \n",
      "min       9.000000     1.000000    18.000000     1.000000     1.000000  ...   \n",
      "25%      18.750000     1.000000    25.000000     1.000000     8.000000  ...   \n",
      "50%      28.000000     2.000000    31.500000     2.000000    21.000000  ...   \n",
      "75%      35.000000     2.000000    40.000000     2.000000    24.000000  ...   \n",
      "max      45.000000     2.000000    99.000000    99.000000    99.000000  ...   \n",
      "\n",
      "          G11_96  G11_99  FinalOutcome  NumOfVisits  weight_combined  \\\n",
      "count  32.000000     2.0        3058.0  3058.000000      3058.000000   \n",
      "mean    0.718750     1.0           1.0     1.130150         1.000987   \n",
      "std     0.456803     0.0           0.0     0.449694         0.403105   \n",
      "min     0.000000     1.0           1.0     1.000000         0.799916   \n",
      "25%     0.000000     1.0           1.0     1.000000         0.829860   \n",
      "50%     1.000000     1.0           1.0     1.000000         0.883601   \n",
      "75%     1.000000     1.0           1.0     1.000000         1.000000   \n",
      "max     1.000000     1.0           1.0     5.000000         3.791351   \n",
      "\n",
      "       kenya_weight  nigeria_weight  southafrica_weight     agegroup  \\\n",
      "count   1002.000000     1016.000000              1040.0  3058.000000   \n",
      "mean       1.000000        1.002970                 1.0     1.475147   \n",
      "std        0.568149        0.413589                 0.0     0.653771   \n",
      "min        0.799916        0.829860                 1.0     1.000000   \n",
      "25%        0.799916        0.829860                 1.0     1.000000   \n",
      "50%        0.799916        0.872352                 1.0     1.000000   \n",
      "75%        1.157689        0.883601                 1.0     2.000000   \n",
      "max        3.791351        2.722043                 1.0     3.000000   \n",
      "\n",
      "         gk_weight  \n",
      "count  3058.000000  \n",
      "mean      2.325065  \n",
      "std       0.858712  \n",
      "min       1.555754  \n",
      "25%       1.753344  \n",
      "50%       2.046237  \n",
      "75%       2.325065  \n",
      "max       7.110619  \n",
      "\n",
      "[8 rows x 226 columns]\n"
     ]
    }
   ],
   "source": [
    "#Zadanie 1\n",
    "df = pd.read_csv('IHME_ORB_C19HSDS_2020_Y2020M12D03.CSV')\n",
    "df\n",
    "print(df.head())\n",
    "\n",
    "# Sprawd podstawowe informacje o danych\n",
    "print(df.info())\n",
    "\n",
    "# Wywietl podstawowe statystyki opisowe\n",
    "print(df.describe())\n"
   ]
  },
  {
   "cell_type": "code",
   "execution_count": 5,
   "id": "f6b3502b",
   "metadata": {},
   "outputs": [
    {
     "name": "stdout",
     "output_type": "stream",
     "text": [
      "Srednia waga kenya : 0.999999999704591\n",
      "Mediana wagi nigeria: 0.87235241\n",
      "Odchylenie standardowe wieku: 0.5681490293617802\n"
     ]
    }
   ],
   "source": [
    "# Zadanie 2\n",
    "mean_weight = df[\"kenya_weight\"].mean()\n",
    "print(f\"Srednia waga kenya : {mean_weight}\")\n",
    "\n",
    "# Oblicz median dla kolumny ’dochd’\n",
    "median_income = df[\"nigeria_weight\"].median()\n",
    "print(f\"Mediana wagi nigeria: {median_income}\")\n",
    "\n",
    "# Oblicz odchylenie standardowe dla kolumny ’kenya_weight’\n",
    "std_age = df[\"kenya_weight\"].std()\n",
    "print(f\"Odchylenie standardowe wieku: {std_age}\")\n"
   ]
  },
  {
   "cell_type": "code",
   "execution_count": 7,
   "id": "99ab983d",
   "metadata": {},
   "outputs": [
    {
     "data": {
      "text/plain": [
       "(SbjNum                    0\n",
       " NetDuration               0\n",
       " InterviewTimeVStart       0\n",
       " InterviewTimeVEnd         0\n",
       " Date                      0\n",
       "                        ... \n",
       " kenya_weight           2056\n",
       " nigeria_weight         2042\n",
       " southafrica_weight     2018\n",
       " agegroup                  0\n",
       " gk_weight                 0\n",
       " Length: 247, dtype: int64,\n",
       "       SbjNum NetDuration InterviewTimeVStart InterviewTimeVEnd  \\\n",
       " 0  133476254     0:10:14     7/17/2020 13:53   7/17/2020 14:26   \n",
       " 1  133281846     0:22:16     7/10/2020 12:53   7/10/2020 14:47   \n",
       " 2  133280780     0:19:23     7/10/2020 12:35   7/10/2020 12:54   \n",
       " 3  133281834     0:10:11     7/10/2020 10:21   7/10/2020 10:32   \n",
       " 4  133491249     0:09:59      7/18/2020 8:27    7/18/2020 8:39   \n",
       " \n",
       "              Date  Srvyr  Country  LANG  R1  R1_5  ... G11_Other G11_99  \\\n",
       " 0  7/17/2020 8:53   3232        2     1   9  15.0  ...       NaN    NaN   \n",
       " 1  7/10/2020 7:53   3206        2     4  12  22.0  ...       NaN    NaN   \n",
       " 2  7/10/2020 7:35   3202        2     3  10  13.0  ...       NaN    NaN   \n",
       " 3  7/10/2020 5:21   3212        2     1  12   9.0  ...       NaN    NaN   \n",
       " 4  7/18/2020 3:27   3225        2     3  11  28.0  ...       NaN    NaN   \n",
       " \n",
       "    FinalOutcome  NumOfVisits  weight_combined kenya_weight  nigeria_weight  \\\n",
       " 0             1            1         0.829860          NaN        0.829860   \n",
       " 1             1            1         1.416946          NaN        1.416946   \n",
       " 2             1            1         0.883601          NaN        0.883601   \n",
       " 3             1            1         1.416946          NaN        1.416946   \n",
       " 4             1            1         0.829860          NaN        0.829860   \n",
       " \n",
       "   southafrica_weight  agegroup gk_weight  \n",
       " 0                NaN         1  1.555754  \n",
       " 1                NaN         2  1.949579  \n",
       " 2                NaN         2  2.151458  \n",
       " 3                NaN         2  2.325065  \n",
       " 4                NaN         1  1.640484  \n",
       " \n",
       " [5 rows x 247 columns])"
      ]
     },
     "execution_count": 7,
     "metadata": {},
     "output_type": "execute_result"
    }
   ],
   "source": [
    "# Zadanie 3: Identyfikacja brakujących danych\n",
    "missing_data_columns = df.isnull().sum()\n",
    "\n",
    "# Uzupełnienie brakujących danych w kolumnie 'kenya_weight' średnią\n",
    "df['kenya_weight'].fillna(mean_weight)\n",
    "\n",
    "# Usunięcie wierszy z brakującymi danymi w kolumnie 'nigeria_weight'\n",
    "df_cleaned = df.dropna(subset=['nigeria_weight'])\n",
    "\n",
    "missing_data_columns, df_cleaned.head()"
   ]
  },
  {
   "cell_type": "code",
   "execution_count": 9,
   "id": "8b7e8ad5",
   "metadata": {},
   "outputs": [
    {
     "name": "stdout",
     "output_type": "stream",
     "text": [
      "Wartoci odstajce :\n",
      "         SbjNum NetDuration InterviewTimeVStart InterviewTimeVEnd  \\\n",
      "1     133281846     0:22:16     7/10/2020 12:53   7/10/2020 14:47   \n",
      "3     133281834     0:10:11     7/10/2020 10:21   7/10/2020 10:32   \n",
      "25    133341539     0:09:55      7/13/2020 9:15    7/13/2020 9:39   \n",
      "43    133530487     0:13:07     7/19/2020 13:37   7/19/2020 13:52   \n",
      "44    133617209     0:14:32      7/23/2020 9:25    7/23/2020 9:43   \n",
      "...         ...         ...                 ...               ...   \n",
      "983   133536715     0:10:23     7/19/2020 14:41   7/19/2020 15:09   \n",
      "984   133172154     0:10:35      7/6/2020 21:37    7/6/2020 22:11   \n",
      "1001  133292785     0:15:41     7/10/2020 16:37   7/10/2020 17:03   \n",
      "1006  133509771     0:16:05     7/18/2020 20:15   7/18/2020 20:32   \n",
      "1011  133350222     0:18:10     7/13/2020 11:03   7/13/2020 11:24   \n",
      "\n",
      "                 Date  Srvyr  Country  LANG  R1  R1_5  ... G11_Other G11_99  \\\n",
      "1      7/10/2020 7:53   3206        2     4  12  22.0  ...       NaN    NaN   \n",
      "3      7/10/2020 5:21   3212        2     1  12   9.0  ...       NaN    NaN   \n",
      "25     7/13/2020 4:15   3232        2     6  14  37.0  ...       NaN    NaN   \n",
      "43     7/19/2020 8:37   3230        2     3  10  44.0  ...       NaN    NaN   \n",
      "44     7/23/2020 4:25   3204        2     3  11  29.0  ...       NaN    NaN   \n",
      "...               ...    ...      ...   ...  ..   ...  ...       ...    ...   \n",
      "983    7/19/2020 9:41   3230        2     3  10  44.0  ...       NaN    NaN   \n",
      "984    7/6/2020 16:37   3233        2     1  10  24.0  ...       NaN    NaN   \n",
      "1001  7/10/2020 11:37   3225        2     3  11  28.0  ...       NaN    NaN   \n",
      "1006  7/18/2020 15:15   3230        2     3  11  27.0  ...       NaN    NaN   \n",
      "1011   7/13/2020 6:03   3204        2     3  11  42.0  ...       NaN    NaN   \n",
      "\n",
      "      FinalOutcome  NumOfVisits  weight_combined kenya_weight  nigeria_weight  \\\n",
      "1                1            1         1.416946          NaN        1.416946   \n",
      "3                1            1         1.416946          NaN        1.416946   \n",
      "25               1            1         1.416946          NaN        1.416946   \n",
      "43               1            1         1.416946          NaN        1.416946   \n",
      "44               1            1         1.416946          NaN        1.416946   \n",
      "...            ...          ...              ...          ...             ...   \n",
      "983              1            1         1.416946          NaN        1.416946   \n",
      "984              1            1         1.416946          NaN        1.416946   \n",
      "1001             1            1         2.722043          NaN        2.722043   \n",
      "1006             1            1         1.416946          NaN        1.416946   \n",
      "1011             1            1         1.416946          NaN        1.416946   \n",
      "\n",
      "     southafrica_weight  agegroup gk_weight  \n",
      "1                   NaN         2  1.949579  \n",
      "3                   NaN         2  2.325065  \n",
      "25                  NaN         2  2.538366  \n",
      "43                  NaN         2  1.949579  \n",
      "44                  NaN         2  1.855697  \n",
      "...                 ...       ...       ...  \n",
      "983                 NaN         2  1.823179  \n",
      "984                 NaN         2  1.949579  \n",
      "1001                NaN         3  3.532132  \n",
      "1006                NaN         2  1.855697  \n",
      "1011                NaN         2  7.110619  \n",
      "\n",
      "[157 rows x 247 columns]\n"
     ]
    }
   ],
   "source": [
    "# Zadanie 4 wykrywanie wartości odstających\n",
    "# Oblicz IQR\n",
    "Q1 = df['nigeria_weight'].quantile(0.25)\n",
    "Q3 = df['nigeria_weight'].quantile(0.75)\n",
    "IQR = Q3 - Q1\n",
    "\n",
    "# Zidentyfikuj wartoci odstajce\n",
    "outliers = df[(df['nigeria_weight'] < (Q1 - 1.5 * IQR)) | (df['nigeria_weight'] > (Q3 + 1.5 * IQR))]\n",
    "print(\"Wartoci odstajce :\")\n",
    "print(outliers)"
   ]
  },
  {
   "cell_type": "code",
   "execution_count": 11,
   "id": "7db23f8e-9402-4888-bf47-b711bcfdcd3d",
   "metadata": {
    "scrolled": true
   },
   "outputs": [
    {
     "name": "stdout",
     "output_type": "stream",
     "text": [
      "Macierz korelacji:\n",
      "           gk_weight      R1_5\n",
      "gk_weight   1.000000 -0.100199\n",
      "R1_5       -0.100199  1.000000\n"
     ]
    },
    {
     "data": {
      "text/plain": [
       "<Axes: xlabel='gk_weight', ylabel='R1_5'>"
      ]
     },
     "execution_count": 11,
     "metadata": {},
     "output_type": "execute_result"
    },
    {
     "data": {
      "image/png": "[encoded data removed]",
      "text/plain": [
       "<Figure size 640x480 with 1 Axes>"
      ]
     },
     "metadata": {},
     "output_type": "display_data"
    }
   ],
   "source": [
    "# Zadanie 5 analiza zależności między kolumnami\n",
    "# Oblicz macierz korelacji\n",
    "df_selected = df[['gk_weight', 'R1_5']]\n",
    "\n",
    "correlation_matrix = df_selected.corr()\n",
    "print(\"Macierz korelacji:\")\n",
    "print(correlation_matrix)\n",
    "\n",
    "# Wykonaj wykres rozrzutu\n",
    "df.plot.scatter(x='gk_weight', y='R1_5')\n"
   ]
  },
  {
   "cell_type": "code",
   "execution_count": 12,
   "id": "94054ece-c633-45de-a432-32ece92f57ee",
   "metadata": {},
   "outputs": [
    {
     "name": "stdout",
     "output_type": "stream",
     "text": [
      "Średni czas wywiadu według grupy wiekowej:\n",
      "agegroup\n",
      "1    11.994770\n",
      "2    11.925174\n",
      "3     9.903370\n",
      "Name: duration_minutes, dtype: float64\n",
      "Dane posortowane według grupy wiekowej:\n",
      "         SbjNum NetDuration InterviewTimeVStart InterviewTimeVEnd  \\\n",
      "2506  133196471     0:12:41      7/7/2020 17:22    7/7/2020 17:35   \n",
      "1677  133490122     0:07:41     7/18/2020 14:13   7/18/2020 14:44   \n",
      "1679  133490003     0:11:03     7/18/2020 14:39   7/18/2020 14:50   \n",
      "1680  133489273     0:08:35     7/18/2020 14:09   7/18/2020 14:18   \n",
      "217   133519409     0:13:16     7/19/2020 12:02   7/19/2020 12:17   \n",
      "\n",
      "                Date  Srvyr  Country  LANG  R1  R1_5  ... FinalOutcome  \\\n",
      "2506  7/7/2020 10:22   3002        1     1   3   NaN  ...            1   \n",
      "1677  7/18/2020 8:13   3030        3     1  50   NaN  ...            1   \n",
      "1679  7/18/2020 8:39   3022        3     1  52   NaN  ...            1   \n",
      "1680  7/18/2020 8:09   3038        3     1  47   NaN  ...            1   \n",
      "217   7/19/2020 7:02   3225        2     3  11  28.0  ...            1   \n",
      "\n",
      "     NumOfVisits  weight_combined  kenya_weight  nigeria_weight  \\\n",
      "2506           1         3.791351      3.791351             NaN   \n",
      "1677           1         1.000000           NaN             NaN   \n",
      "1679           1         1.000000           NaN             NaN   \n",
      "1680           1         1.000000           NaN             NaN   \n",
      "217            1         2.722043           NaN        2.722043   \n",
      "\n",
      "     southafrica_weight  agegroup gk_weight  duration_minutes wielkosc_na_kraj  \n",
      "2506                NaN         3  2.880918         12.683333         1.000000  \n",
      "1677                1.0         3  2.325065          7.683333         0.333333  \n",
      "1679                1.0         3  2.325065         11.050000         0.333333  \n",
      "1680                1.0         3  5.774278          8.583333         0.333333  \n",
      "217                 NaN         3  2.151458         13.266667         1.500000  \n",
      "\n",
      "[5 rows x 249 columns]\n"
     ]
    }
   ],
   "source": [
    "# Zadanie 6 Przekształcanie danych\n",
    "# Tworzę pomocniczą kolumne duration_minutes która przedstawi dane z NetDuration w minutach \n",
    "df['duration_minutes'] = pd.to_timedelta(df['NetDuration']).dt.total_seconds() / 60\n",
    "\n",
    "# Dodaje nowa kolumne \"wielkosc_na_kraj\n",
    "df['wielkosc_na_kraj'] = df['LANG'] / df['Country']\n",
    "\n",
    "# Grupuj dane wedug kolumny agegroup i oblicz sredni czas wywiadu\n",
    "grouped = df.groupby('agegroup')['duration_minutes'].mean()\n",
    "print(\"Średni czas wywiadu według grupy wiekowej:\")\n",
    "print(grouped)\n",
    "\n",
    "# Posortuj dane wedug kolumny agegroup\n",
    "df_sorted = df.sort_values(by='agegroup', ascending=False)\n",
    "print(\"Dane posortowane według grupy wiekowej:\")\n",
    "print(df_sorted.head())\n",
    "\n"
   ]
  },
  {
   "cell_type": "code",
   "execution_count": null,
   "id": "68791fdb-dd7b-403b-8f13-95608a8ddf28",
   "metadata": {},
   "outputs": [],
   "source": []
  }
 ],
 "metadata": {
  "kernelspec": {
   "display_name": "Python 3 (ipykernel)",
   "language": "python",
   "name": "python3"
  },
  "language_info": {
   "codemirror_mode": {
    "name": "ipython",
    "version": 3
   },
   "file_extension": ".py",
   "mimetype": "text/x-python",
   "name": "python",
   "nbconvert_exporter": "python",
   "pygments_lexer": "ipython3",
   "version": "3.12.4"
  }
 },
 "nbformat": 4,
 "nbformat_minor": 5
}

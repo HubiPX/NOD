{
 "cells": [
  {
   "cell_type": "code",
   "execution_count": 1,
   "id": "a73a683b-a9ff-47dd-b3e9-91bbc8c580d5",
   "metadata": {},
   "outputs": [],
   "source": [
    "import numpy as np\n",
    "import matplotlib.pyplot as plt\n",
    "import seaborn as sns\n",
    "sns.set_style('darkgrid')\n",
    "\n",
    "np.random.seed(42)\n"
   ]
  },
  {
   "cell_type": "code",
   "execution_count": 3,
   "id": "274a9ec6-97e8-4e0c-819b-12edba5b9b3d",
   "metadata": {},
   "outputs": [],
   "source": [
    "# Generowanie danych\n",
    "nb_of_samples = 30\n",
    "sequence_len = 20\n",
    "\n",
    "# Możliwe wartości\n",
    "levels = np.array([0.33, 0.66, 1.0])\n",
    "\n",
    "# Tworzymy dane wejściowe (X)\n",
    "X = np.random.choice(levels, size=(nb_of_samples, sequence_len))\n",
    "\n",
    "# Cele: średnie odchylenie standardowe\n",
    "t = np.std(X, axis=1)\n"
   ]
  },
  {
   "cell_type": "code",
   "execution_count": 5,
   "id": "f972dbe0-e359-4e8f-b959-1ec4a49d3da0",
   "metadata": {},
   "outputs": [],
   "source": [
    "# Forward propagation\n",
    "def update_state(xk, sk, wx, wRec):\n",
    "    return xk * wx + sk * wRec\n",
    "\n",
    "def forward_states(X, wx, wRec):\n",
    "    S = np.zeros((X.shape[0], X.shape[1]+1))\n",
    "    for k in range(X.shape[1]):\n",
    "        S[:,k+1] = update_state(X[:,k], S[:,k], wx, wRec)\n",
    "    return S\n",
    "\n",
    "def loss(y, t): \n",
    "    return np.mean((t - y)**2)\n"
   ]
  },
  {
   "cell_type": "code",
   "execution_count": 7,
   "id": "60e4f43a-f567-4f1c-aa5a-ae127cd9d163",
   "metadata": {},
   "outputs": [],
   "source": [
    "# Backward propagation\n",
    "def output_gradient(y, t):\n",
    "    return 2. * (y - t)\n",
    "\n",
    "def backward_gradient(X, S, grad_out, wRec):\n",
    "    grad_over_time = np.zeros((X.shape[0], X.shape[1]+1))\n",
    "    grad_over_time[:,-1] = grad_out\n",
    "    wx_grad = 0\n",
    "    wRec_grad = 0\n",
    "    for k in range(X.shape[1], 0, -1):\n",
    "        wx_grad += np.sum(np.mean(grad_over_time[:,k] * X[:,k-1], axis=0))\n",
    "        wRec_grad += np.sum(np.mean(grad_over_time[:,k] * S[:,k-1], axis=0))\n",
    "        grad_over_time[:,k-1] = grad_over_time[:,k] * wRec\n",
    "    return (wx_grad, wRec_grad), grad_over_time\n"
   ]
  },
  {
   "cell_type": "code",
   "execution_count": 9,
   "id": "a957150b-4ef7-490e-83b6-e9a570aa22ef",
   "metadata": {},
   "outputs": [
    {
     "name": "stdout",
     "output_type": "stream",
     "text": [
      "Gradient check passed!\n"
     ]
    }
   ],
   "source": [
    "#  Sprawdzenie gradientu\n",
    "params = [1.0, 1.0]\n",
    "eps = 1e-7\n",
    "\n",
    "S = forward_states(X, params[0], params[1])\n",
    "grad_out = output_gradient(S[:,-1], t)\n",
    "backprop_grads, _ = backward_gradient(X, S, grad_out, params[1])\n",
    "\n",
    "for p_idx in range(len(params)):\n",
    "    original = params[p_idx]\n",
    "    params[p_idx] += eps\n",
    "    plus_loss = loss(forward_states(X, params[0], params[1])[:,-1], t)\n",
    "    params[p_idx] -= 2 * eps\n",
    "    min_loss = loss(forward_states(X, params[0], params[1])[:,-1], t)\n",
    "    params[p_idx] = original\n",
    "    grad_num = (plus_loss - min_loss) / (2 * eps)\n",
    "    if not np.isclose(grad_num, backprop_grads[p_idx]):\n",
    "        raise ValueError(f'Gradient check failed at param {p_idx}')\n",
    "print(\"Gradient check passed!\")\n"
   ]
  },
  {
   "cell_type": "code",
   "execution_count": 11,
   "id": "8bda6a3d-7957-41bc-99c1-69887b4fcf41",
   "metadata": {},
   "outputs": [],
   "source": [
    "# Optymalizacja RProp\n",
    "def update_rprop(X, t, W, W_prev_sign, W_delta, eta_p, eta_n):\n",
    "    S = forward_states(X, W[0], W[1])\n",
    "    grad_out = output_gradient(S[:,-1], t)\n",
    "    W_grads, _ = backward_gradient(X, S, grad_out, W[1])\n",
    "    W_sign = np.sign(W_grads)\n",
    "    for i in range(len(W)):\n",
    "        if W_sign[i] == W_prev_sign[i]:\n",
    "            W_delta[i] *= eta_p\n",
    "        else:\n",
    "            W_delta[i] *= eta_n\n",
    "    return W_delta, W_sign\n"
   ]
  },
  {
   "cell_type": "code",
   "execution_count": 13,
   "id": "5ceb5334-06a1-4914-a547-5a8adb3ea26e",
   "metadata": {},
   "outputs": [
    {
     "name": "stdout",
     "output_type": "stream",
     "text": [
      "📉 Final weights: wx = 0.0473, wRec = 0.8967\n"
     ]
    }
   ],
   "source": [
    "# Parametry RProp\n",
    "eta_p = 1.2\n",
    "eta_n = 0.5\n",
    "W = [0.5, 0.5]\n",
    "W_delta = [0.001, 0.001]\n",
    "W_sign = [0, 0]\n",
    "ws_history = [tuple(W)]\n",
    "\n",
    "for _ in range(300):\n",
    "    W_delta, W_sign = update_rprop(X, t, W, W_sign, W_delta, eta_p, eta_n)\n",
    "    for i in range(len(W)):\n",
    "        W[i] -= W_sign[i] * W_delta[i]\n",
    "    ws_history.append(tuple(W))\n",
    "\n",
    "print(f\"📉 Final weights: wx = {W[0]:.4f}, wRec = {W[1]:.4f}\")\n"
   ]
  },
  {
   "cell_type": "code",
   "execution_count": 17,
   "id": "e7187381-24fc-42ad-9eab-43887b3d19fa",
   "metadata": {},
   "outputs": [
    {
     "name": "stdout",
     "output_type": "stream",
     "text": [
      "Target (std): 0.2331\n",
      "Model output: 0.2433\n"
     ]
    }
   ],
   "source": [
    "# Testowanie na nowej sekwencji\n",
    "test_input = np.random.choice(levels, size=(1, 20))\n",
    "expected_output = np.std(test_input)\n",
    "model_output = forward_states(test_input, W[0], W[1])[:,-1][0]\n",
    "\n",
    "print(f\"Target (std): {expected_output:.4f}\")\n",
    "print(f\"Model output: {model_output:.4f}\")\n"
   ]
  },
  {
   "cell_type": "code",
   "execution_count": null,
   "id": "bcca5c21-7802-45f3-bc48-76dd4bc1915b",
   "metadata": {},
   "outputs": [],
   "source": []
  }
 ],
 "metadata": {
  "kernelspec": {
   "display_name": "Python 3 (ipykernel)",
   "language": "python",
   "name": "python3"
  },
  "language_info": {
   "codemirror_mode": {
    "name": "ipython",
    "version": 3
   },
   "file_extension": ".py",
   "mimetype": "text/x-python",
   "name": "python",
   "nbconvert_exporter": "python",
   "pygments_lexer": "ipython3",
   "version": "3.12.4"
  }
 },
 "nbformat": 4,
 "nbformat_minor": 5
}
